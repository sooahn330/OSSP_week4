{
  "nbformat": 4,
  "nbformat_minor": 0,
  "metadata": {
    "colab": {
      "provenance": []
    },
    "kernelspec": {
      "name": "python3",
      "display_name": "Python 3"
    },
    "language_info": {
      "name": "python"
    },
    "accelerator": "GPU",
    "gpuClass": "standard"
  },
  "cells": [
    {
      "cell_type": "code",
      "execution_count": 26,
      "metadata": {
        "colab": {
          "base_uri": "https://localhost:8080/"
        },
        "id": "100KoUPTu5m0",
        "outputId": "ddc2bf55-1b66-482f-8d77-53a06d5d55c3"
      },
      "outputs": [
        {
          "output_type": "stream",
          "name": "stdout",
          "text": [
            "True\n"
          ]
        }
      ],
      "source": [
        "def rotateString(s, goal):\n",
        "    for d in range(len(s)):\n",
        "        \n",
        "        left = s[:d]\n",
        "        right = s[d:]\n",
        "       \n",
        "        result = right + left\n",
        "        if result == goal:\n",
        "            print(\"True\")\n",
        "            return\n",
        "    print(\"False\")\n",
        "    \n",
        "\n",
        "rotateString(\"abcde\", \"abcde\")\n"
      ]
    },
    {
      "cell_type": "code",
      "source": [],
      "metadata": {
        "id": "nakSzFv46AqZ"
      },
      "execution_count": null,
      "outputs": []
    }
  ]
}